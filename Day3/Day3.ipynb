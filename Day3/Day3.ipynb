{
 "cells": [
  {
   "cell_type": "code",
   "execution_count": 1,
   "metadata": {},
   "outputs": [],
   "source": [
    "import numpy as np\n",
    "import scipy.stats as ss\n",
    "from decimal import Decimal, getcontext, ROUND_HALF_UP"
   ]
  },
  {
   "cell_type": "code",
   "execution_count": 2,
   "metadata": {},
   "outputs": [
    {
     "name": "stdout",
     "output_type": "stream",
     "text": [
      "[['010000010010']\n",
      " ['011001011100']\n",
      " ['110011011101']\n",
      " ['110100100001']\n",
      " ['000110011110']\n",
      " ['110101000101']\n",
      " ['100110111001']\n",
      " ['110000000000']\n",
      " ['100101100111']\n",
      " ['001001011000']]\n"
     ]
    }
   ],
   "source": [
    "codes_raw = np.loadtxt('puzzle3_input.txt', dtype=str).reshape((-1, 1))\n",
    "\n",
    "print(codes_raw[0:10]) # View a sample"
   ]
  },
  {
   "cell_type": "markdown",
   "metadata": {},
   "source": [
    "## Part 1"
   ]
  },
  {
   "cell_type": "code",
   "execution_count": 3,
   "metadata": {},
   "outputs": [],
   "source": [
    "# Split strings into lists of chars, convert to boolean (binary)\n",
    "# This bit feels like cheating, since apply_along_axis()/map() is the closest thing you can get to a for loop without explicitly writing a for loop\n",
    "codes = np.apply_along_axis(lambda x: list(x[0]), axis=1, arr=codes_raw).astype(bool)\n",
    "\n",
    "# Find most common (mode) of each column\n",
    "gamma_bin = ss.stats.mode(codes)[0][0]\n",
    "\n",
    "# Epsilon is the invert of gamma (least common bit in each column)\n",
    "epsilon_bin = np.bitwise_not(gamma_bin)\n",
    "\n",
    "# Create 16 bit representations (currently 12 bit) with zeros padded in front\n",
    "gamma_b16 = np.zeros((16,), dtype=bool)\n",
    "epsilon_b16 = np.zeros_like(gamma_b16, dtype=bool)\n",
    "gamma_b16[4:] = gamma_bin\n",
    "epsilon_b16[4:] = epsilon_bin\n",
    "\n",
    "# Reshape, swap bytes and then view cast\n",
    "gamma = np.packbits(gamma_b16.reshape(-1, 2, 8)[:, ::-1]).view(np.uint16)\n",
    "epsilon = np.packbits(epsilon_b16.reshape(-1, 2, 8)[:, ::-1]).view(np.uint16)\n",
    "\n",
    "# Convert to floats before multiplying (since they are currently unsigned 16 bit integers)\n",
    "power = gamma.astype(float)*epsilon.astype(float)"
   ]
  },
  {
   "cell_type": "code",
   "execution_count": 4,
   "metadata": {},
   "outputs": [
    {
     "name": "stdout",
     "output_type": "stream",
     "text": [
      "Gamma rate = [1503]\n",
      "Epsilon rate = [2592]\n",
      "Power = [3895776.]\n"
     ]
    }
   ],
   "source": [
    "print(f\"Gamma rate = {gamma}\")\n",
    "print(f\"Epsilon rate = {epsilon}\")\n",
    "print(f\"Power = {power}\")"
   ]
  },
  {
   "cell_type": "markdown",
   "metadata": {},
   "source": [
    "## Part 2"
   ]
  },
  {
   "cell_type": "code",
   "execution_count": 5,
   "metadata": {},
   "outputs": [],
   "source": [
    "# Probably the most convoluted function ever, but hey... It works...\n",
    "def find_rating(x, i=0, to_find=1):\n",
    "    # If only one element remains, return it\n",
    "    if x.shape[0] == 1:\n",
    "        return x[0]\n",
    "    \n",
    "    # Calculate the mode and the counts\n",
    "    (mode, count) = ss.stats.mode(x)\n",
    "    \n",
    "    # Check if the counts of the values are equal (i.e. count of the modal value = half the array length)\n",
    "    # Scipy returns the lowest of the 2 modal values if this is the case, so we need to return the correct one\n",
    "    # I.e. 1 for Oxygen and 0 for CO2\n",
    "    if count[0, i] == x.shape[0]/2:\n",
    "        m = to_find\n",
    "    else:\n",
    "        # If we're looking for Oxygen, then return the mode\n",
    "        if to_find:\n",
    "            m = mode[0, i]\n",
    "        # If not, then return the opposite of the mode\n",
    "        else:\n",
    "            m = not mode[0, i]\n",
    "\n",
    "    # Yay recursion!\n",
    "    return find_rating(x[x[:, i] == m], i=i+1, to_find=to_find)"
   ]
  },
  {
   "cell_type": "code",
   "execution_count": 6,
   "metadata": {},
   "outputs": [
    {
     "name": "stdout",
     "output_type": "stream",
     "text": [
      "[0 1 1 1 1 1 0 0 0 1 1 1]\n",
      "[1 1 1 1 1 0 0 0 1 1 1 0]\n"
     ]
    }
   ],
   "source": [
    "oxygen_rating_bin = find_rating(codes, i=0, to_find=1)\n",
    "co2_rating_bin = find_rating(codes, i=0, to_find=0)\n",
    "print(oxygen_rating_bin.astype(int))\n",
    "print(co2_rating_bin.astype(int))\n"
   ]
  },
  {
   "cell_type": "code",
   "execution_count": 7,
   "metadata": {},
   "outputs": [
    {
     "name": "stdout",
     "output_type": "stream",
     "text": [
      "Oxygen rating = [1991]\n",
      "CO2 rating = [3982]\n",
      "Life Support = 7928162.0\n"
     ]
    }
   ],
   "source": [
    "# Again, create 16 bit representations (currently 12 bit) with zeros padded in front\n",
    "oxygen_b16 = np.zeros((16,), dtype=bool)\n",
    "co2_b16 = np.zeros_like(gamma_b16, dtype=bool)\n",
    "oxygen_b16[4:] = oxygen_rating_bin\n",
    "co2_b16[4:] = co2_rating_bin\n",
    "\n",
    "# Reshape, swap bytes and then view cast\n",
    "oxygen_rating = np.packbits(oxygen_b16.reshape(-1, 2, 8)[:, ::-1]).view(np.uint16)\n",
    "co2_rating = np.packbits(co2_b16.reshape(-1, 2, 8)[:, ::-1]).view(np.uint16)\n",
    "\n",
    "print(f\"Oxygen rating = {oxygen_rating}\")\n",
    "print(f\"CO2 rating = {co2_rating}\")\n",
    "print(f\"Life Support = {float(oxygen_rating) * float(co2_rating)}\")\n"
   ]
  }
 ],
 "metadata": {
  "interpreter": {
   "hash": "3bb0b906a52cd01b57fcf9528f629d092d4758143e0f8be043d97981fc3400a6"
  },
  "kernelspec": {
   "display_name": "Python 3.8.8 64-bit ('meng': conda)",
   "language": "python",
   "name": "python3"
  },
  "language_info": {
   "codemirror_mode": {
    "name": "ipython",
    "version": 3
   },
   "file_extension": ".py",
   "mimetype": "text/x-python",
   "name": "python",
   "nbconvert_exporter": "python",
   "pygments_lexer": "ipython3",
   "version": "3.8.8"
  },
  "orig_nbformat": 4
 },
 "nbformat": 4,
 "nbformat_minor": 2
}
