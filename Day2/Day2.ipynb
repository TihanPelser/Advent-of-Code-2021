{
 "cells": [
  {
   "cell_type": "code",
   "execution_count": 1,
   "metadata": {},
   "outputs": [],
   "source": [
    "import numpy as np"
   ]
  },
  {
   "cell_type": "code",
   "execution_count": 16,
   "metadata": {},
   "outputs": [
    {
     "name": "stdout",
     "output_type": "stream",
     "text": [
      "[['forward' '3']\n",
      " ['down' '7']\n",
      " ['forward' '8']\n",
      " ...\n",
      " ['down' '6']\n",
      " ['down' '9']\n",
      " ['forward' '8']]\n",
      "(1000, 2)\n"
     ]
    }
   ],
   "source": [
    "# Load commands\n",
    "raw_commands = np.loadtxt('puzzle2_input.txt', dtype=str)\n",
    "print(raw_commands)\n",
    "print(raw_commands.shape)"
   ]
  },
  {
   "cell_type": "markdown",
   "metadata": {},
   "source": [
    "## Part 1"
   ]
  },
  {
   "cell_type": "code",
   "execution_count": 42,
   "metadata": {},
   "outputs": [
    {
     "name": "stdout",
     "output_type": "stream",
     "text": [
      "(x, y) = (1832, 1172)\n",
      "Prod = 2147104\n"
     ]
    }
   ],
   "source": [
    "commands = np.zeros_like(raw_commands, dtype=int)\n",
    "commands[:, 1] = raw_commands[:, 1].astype(int)\n",
    "\n",
    "forward_mask = np.where(raw_commands[:, 0] == 'forward')\n",
    "up_mask = np.where(raw_commands[:, 0] == 'up')\n",
    "down_mask = np.where(raw_commands[:, 0] == 'down')\n",
    "\n",
    "# (Horizontal, Vertical)\n",
    "(x, y) = (0, 0)\n",
    "x = np.sum(commands[forward_mask, 1])\n",
    "y -= np.sum(commands[up_mask, 1])\n",
    "y += np.sum(commands[down_mask, 1])\n",
    "\n",
    "print(f\"(x, y) = {(x, y)}\")\n",
    "print(f\"Prod = {np.prod((x, y))}\")"
   ]
  },
  {
   "cell_type": "markdown",
   "metadata": {},
   "source": [
    "## Part 2"
   ]
  },
  {
   "cell_type": "code",
   "execution_count": 69,
   "metadata": {},
   "outputs": [
    {
     "name": "stdout",
     "output_type": "stream",
     "text": [
      "(x, y) = (1832.0, 1116059.0)\n",
      "Prod = 2044620088.0\n"
     ]
    }
   ],
   "source": [
    "# commands -> (n_command, (x, y, aim))\n",
    "commands = np.zeros((raw_commands.shape[0], raw_commands.shape[1] + 1), dtype=float)\n",
    "\n",
    "forward_mask = np.where(raw_commands[:, 0] == 'forward')\n",
    "up_mask = np.where(raw_commands[:, 0] == 'up')\n",
    "down_mask = np.where(raw_commands[:, 0] == 'down')\n",
    "\n",
    "commands[forward_mask, 0] = raw_commands[forward_mask, 1].astype(int)\n",
    "commands[up_mask, 2] = - raw_commands[up_mask, 1].astype(int)\n",
    "commands[down_mask, 2] = raw_commands[down_mask, 1].astype(int)\n",
    "\n",
    "commands[:, 2] = np.cumsum(commands[:, 2])\n",
    "\n",
    "b = np.array([1, 0, 1])\n",
    "\n",
    "commands[:, 1] = commands[:, 0] * commands[:, 2]\n",
    "\n",
    "x = np.sum(commands[:, 0])\n",
    "y = np.sum(commands[:, 1])\n",
    "\n",
    "print(f\"(x, y) = {(x, y)}\")\n",
    "print(f\"Prod = {np.prod((x, y))}\")"
   ]
  },
  {
   "cell_type": "code",
   "execution_count": null,
   "metadata": {},
   "outputs": [],
   "source": []
  }
 ],
 "metadata": {
  "interpreter": {
   "hash": "3bb0b906a52cd01b57fcf9528f629d092d4758143e0f8be043d97981fc3400a6"
  },
  "kernelspec": {
   "display_name": "Python 3.8.8 64-bit ('meng': conda)",
   "language": "python",
   "name": "python3"
  },
  "language_info": {
   "codemirror_mode": {
    "name": "ipython",
    "version": 3
   },
   "file_extension": ".py",
   "mimetype": "text/x-python",
   "name": "python",
   "nbconvert_exporter": "python",
   "pygments_lexer": "ipython3",
   "version": "3.8.8"
  },
  "orig_nbformat": 4
 },
 "nbformat": 4,
 "nbformat_minor": 2
}
